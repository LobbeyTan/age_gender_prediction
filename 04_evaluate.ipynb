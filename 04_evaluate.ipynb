{
 "cells": [
  {
   "cell_type": "code",
   "execution_count": 1,
   "metadata": {},
   "outputs": [],
   "source": [
    "import torch\n",
    "from torch.utils.data import DataLoader\n",
    "from src.dataset import WikiDataset\n",
    "from src.model import AgeGenderPredictor"
   ]
  },
  {
   "cell_type": "code",
   "execution_count": 2,
   "metadata": {},
   "outputs": [],
   "source": [
    "# Load adience dataset for evaluation and benchmarking\n",
    "dataset = WikiDataset(root_dir=\"./adience\", tts_ratio=1)\n",
    "\n",
    "batch_size = 8\n",
    "\n",
    "# Put the dataset into dataloader\n",
    "dataloader = DataLoader(dataset, batch_size, shuffle=True)"
   ]
  },
  {
   "cell_type": "code",
   "execution_count": 3,
   "metadata": {},
   "outputs": [
    {
     "name": "stdout",
     "output_type": "stream",
     "text": [
      "3940\n"
     ]
    }
   ],
   "source": [
    "# Get the size of dataset\n",
    "total = len(dataset)\n",
    "\n",
    "print(total)"
   ]
  },
  {
   "cell_type": "code",
   "execution_count": 4,
   "metadata": {},
   "outputs": [],
   "source": [
    "# Specify the device to be used for inferencing\n",
    "device = torch.device(\"cuda\" if torch.cuda.is_available() else \"cpu\")"
   ]
  },
  {
   "cell_type": "code",
   "execution_count": 5,
   "metadata": {},
   "outputs": [],
   "source": [
    "# Create the model and load the trained weights\n",
    "model = AgeGenderPredictor(device=device)\n",
    "\n",
    "model.load_model(\"./src/checkpoints/training_4/epoch_5\")\n",
    "\n",
    "model.eval()"
   ]
  },
  {
   "cell_type": "code",
   "execution_count": 6,
   "metadata": {},
   "outputs": [],
   "source": [
    "age_mae = 0\n",
    "gender_mae = 0\n",
    "\n",
    "age_accuracy = 0\n",
    "gender_accuracy = 0\n",
    "\n",
    "for data in iter(dataloader):\n",
    "    # Get the test result\n",
    "    age_pred, gender_pred = model.test(data)\n",
    "\n",
    "    # Get the target expected result\n",
    "    age_real, gender_real = model.age_real, model.gender_real\n",
    "    \n",
    "    # Calculate absolute difference\n",
    "    age_mae += torch.abs(age_real - age_pred).sum().item()\n",
    "    gender_mae += torch.abs(gender_real - gender_pred).sum().item()\n",
    "\n",
    "    # Calculate number of correct predictions\n",
    "    age_accuracy += (age_real == age_pred).sum().item()\n",
    "    gender_accuracy += (gender_real == gender_pred).sum().item()"
   ]
  },
  {
   "cell_type": "code",
   "execution_count": 7,
   "metadata": {},
   "outputs": [
    {
     "name": "stdout",
     "output_type": "stream",
     "text": [
      "Gender MAE: 0.49086\n",
      "Gender accuracy: 50.91 %\n",
      "Age MAE: 1.71066\n",
      "Age accuracy: 3.86 %\n"
     ]
    }
   ],
   "source": [
    "# Print out the result\n",
    "print(\"Gender MAE: %.5f\" % (gender_mae / total))\n",
    "print(\"Gender accuracy: %.2f\" % (gender_accuracy / total * 100), \"%\")\n",
    "print(\"Age MAE: %.5f\" % (age_mae / total))\n",
    "print(\"Age accuracy: %.2f\" % (age_accuracy / total * 100), \"%\")"
   ]
  },
  {
   "cell_type": "code",
   "execution_count": null,
   "metadata": {},
   "outputs": [],
   "source": []
  }
 ],
 "metadata": {
  "interpreter": {
   "hash": "9cf3140a95018356adda0b08a8d866947d94191709b9d93ba5e939514f97a387"
  },
  "kernelspec": {
   "display_name": "Python 3.10.2 ('pytorch_env')",
   "language": "python",
   "name": "python3"
  },
  "language_info": {
   "codemirror_mode": {
    "name": "ipython",
    "version": 3
   },
   "file_extension": ".py",
   "mimetype": "text/x-python",
   "name": "python",
   "nbconvert_exporter": "python",
   "pygments_lexer": "ipython3",
   "version": "3.10.2"
  },
  "orig_nbformat": 4
 },
 "nbformat": 4,
 "nbformat_minor": 2
}
