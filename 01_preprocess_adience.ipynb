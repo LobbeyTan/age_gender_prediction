{
 "cells": [
  {
   "cell_type": "markdown",
   "metadata": {},
   "source": [
    "### Import Library"
   ]
  },
  {
   "cell_type": "code",
   "execution_count": 1,
   "metadata": {},
   "outputs": [],
   "source": [
    "import pandas as pd\n",
    "import os"
   ]
  },
  {
   "cell_type": "markdown",
   "metadata": {},
   "source": [
    "### Rename the Dataset Images"
   ]
  },
  {
   "cell_type": "code",
   "execution_count": 2,
   "metadata": {},
   "outputs": [],
   "source": [
    "# Get the root directory path\n",
    "root_path = os.getcwd()\n",
    "\n",
    "# Get the absolute adience directory path\n",
    "adience_path = os.path.join(root_path, \"adience\")\n",
    "\n",
    "# Loop through all the image directories in adience dataset\n",
    "for image_dir in os.listdir(adience_path):\n",
    "\n",
    "    image_dir = os.path.join(adience_path, image_dir)\n",
    "\n",
    "    if os.path.isdir(image_dir):\n",
    "        filenames = os.listdir(image_dir)\n",
    "\n",
    "        # Rename each images in the dataset\n",
    "        for image_filename in filenames:\n",
    "            target_filename = image_filename.split(sep='.', maxsplit=2)[-1]\n",
    "\n",
    "            if target_filename == \"jpg\": continue\n",
    "\n",
    "            old_name = os.path.join(image_dir, image_filename)\n",
    "            new_name = os.path.join(image_dir, target_filename)\n",
    "\n",
    "            try:\n",
    "                os.rename(old_name, new_name)\n",
    "            except:\n",
    "                os.remove(new_name)\n",
    "                os.rename(old_name, new_name)\n",
    "                print(\"removed duplicate\")"
   ]
  },
  {
   "cell_type": "markdown",
   "metadata": {},
   "source": [
    "### Import Dataset Metadata"
   ]
  },
  {
   "cell_type": "code",
   "execution_count": 3,
   "metadata": {},
   "outputs": [],
   "source": [
    "# Specify the age group map\n",
    "age_group_map = {\n",
    "    '(0, 2)': 0,\n",
    "    '(4, 6)': 1,\n",
    "    '(8, 12)': 2,\n",
    "    '(15, 20)': 3,\n",
    "    '(25, 32)': 4,\n",
    "    '(38, 43)': 5,\n",
    "    '(48, 53)': 6,\n",
    "    '(60, 100)': 7,\n",
    "}\n",
    "\n",
    "# Specify the gender map\n",
    "gender_map = {\n",
    "    'f': 0,\n",
    "    'm': 1,\n",
    "}"
   ]
  },
  {
   "cell_type": "code",
   "execution_count": 4,
   "metadata": {},
   "outputs": [],
   "source": [
    "path = []\n",
    "age = []\n",
    "gender = []\n",
    "\n",
    "# Read the 5-fold-cross-validation metadata txt file and merge together\n",
    "for i in range(1):\n",
    "    with open(f\"./adience/fold_{i}_data.txt\") as file:\n",
    "        for line in file.readlines():\n",
    "            line_data = line.split()\n",
    "            \n",
    "            # Skip header line\n",
    "            if line_data[0] == 'user_id': continue\n",
    "\n",
    "            p = \"/\".join(line_data[:2])\n",
    "            a = \" \".join(line_data[3:5])\n",
    "            g = line_data[5]\n",
    "\n",
    "            if not os.path.isfile(os.path.join(adience_path, p)) or g not in list(gender_map.keys()) or a not in list(age_group_map.keys()): continue\n",
    "\n",
    "            path.append(p)\n",
    "\n",
    "            age.append(a)\n",
    "\n",
    "            gender.append(g)\n"
   ]
  },
  {
   "cell_type": "code",
   "execution_count": 5,
   "metadata": {},
   "outputs": [],
   "source": [
    "# Create a pandas dataframe\n",
    "df = pd.DataFrame({\n",
    "    \"image_path\": path,\n",
    "    \"gender\": gender,\n",
    "    \"age\": age,\n",
    "})"
   ]
  },
  {
   "cell_type": "code",
   "execution_count": 6,
   "metadata": {},
   "outputs": [],
   "source": [
    "# Preprocessing the df data\n",
    "df['gender'] = df['gender'].apply(lambda g: gender_map[g])\n",
    "df['age'] = df['age'].apply(lambda a: age_group_map[a])"
   ]
  },
  {
   "cell_type": "code",
   "execution_count": 9,
   "metadata": {},
   "outputs": [],
   "source": [
    "# Export preprocessed dataframe\n",
    "df.to_csv(\"./adience/preprocessed_data.csv\", index=False)"
   ]
  },
  {
   "cell_type": "code",
   "execution_count": null,
   "metadata": {},
   "outputs": [],
   "source": []
  }
 ],
 "metadata": {
  "interpreter": {
   "hash": "9cf3140a95018356adda0b08a8d866947d94191709b9d93ba5e939514f97a387"
  },
  "kernelspec": {
   "display_name": "Python 3.10.2 ('pytorch_env')",
   "language": "python",
   "name": "python3"
  },
  "language_info": {
   "codemirror_mode": {
    "name": "ipython",
    "version": 3
   },
   "file_extension": ".py",
   "mimetype": "text/x-python",
   "name": "python",
   "nbconvert_exporter": "python",
   "pygments_lexer": "ipython3",
   "version": "3.10.2"
  },
  "orig_nbformat": 4
 },
 "nbformat": 4,
 "nbformat_minor": 2
}
