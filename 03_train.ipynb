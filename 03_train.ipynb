{
 "cells": [
  {
   "cell_type": "markdown",
   "metadata": {},
   "source": [
    "# Mount Google Drive"
   ]
  },
  {
   "cell_type": "code",
   "execution_count": null,
   "metadata": {},
   "outputs": [],
   "source": [
    "from google.colab import drive\n",
    "drive.mount('/content/drive')"
   ]
  },
  {
   "cell_type": "code",
   "execution_count": null,
   "metadata": {},
   "outputs": [],
   "source": [
    "%cd /content/drive/MyDrive/github/age_gender_prediction/"
   ]
  },
  {
   "cell_type": "markdown",
   "metadata": {},
   "source": [
    "# Age and Gender Prediction"
   ]
  },
  {
   "cell_type": "code",
   "execution_count": null,
   "metadata": {},
   "outputs": [],
   "source": [
    "from src.dataset import WikiDataset\n",
    "from src.model import AgeGenderPredictor\n",
    "from torch.utils.data import DataLoader\n",
    "\n",
    "import torch\n",
    "import time"
   ]
  },
  {
   "cell_type": "code",
   "execution_count": null,
   "metadata": {},
   "outputs": [],
   "source": [
    "device = torch.device(\"cuda\" if torch.cuda.is_available() else \"CPU\")\n",
    "\n",
    "print(\"Device used:\", device)"
   ]
  },
  {
   "cell_type": "code",
   "execution_count": null,
   "metadata": {},
   "outputs": [],
   "source": [
    "img_dir = \"./wiki\"\n",
    "checkpoint_dir = \"./checkpoints\"\n",
    "batch_size = 64\n",
    "batch_shuffle = True\n",
    "\n",
    "lr = 0.0001\n",
    "n_epochs = 100\n",
    "\n",
    "print_freq = 1000\n",
    "save_freq = 10"
   ]
  },
  {
   "cell_type": "code",
   "execution_count": null,
   "metadata": {},
   "outputs": [],
   "source": [
    "dataset = WikiDataset(img_dir, train=True)"
   ]
  },
  {
   "cell_type": "code",
   "execution_count": null,
   "metadata": {},
   "outputs": [],
   "source": [
    "dataloader = DataLoader(dataset, batch_size, shuffle=batch_shuffle)"
   ]
  },
  {
   "cell_type": "code",
   "execution_count": null,
   "metadata": {},
   "outputs": [],
   "source": [
    "model = AgeGenderPredictor(lr, device=device)"
   ]
  },
  {
   "cell_type": "code",
   "execution_count": null,
   "metadata": {},
   "outputs": [],
   "source": [
    "total_iterations = 0\n",
    "train_start_time = time.time()\n",
    "\n",
    "n_print = 1\n",
    "n_save = 1\n",
    "\n",
    "for epoch in range(n_epochs):\n",
    "    start_time = time.time()\n",
    "\n",
    "    epoch_iter = 0\n",
    "\n",
    "    for i, data in enumerate(dataloader):\n",
    "        current_batch_size = len(data['age'])\n",
    "\n",
    "        age, gender = model(data)\n",
    "        model.optimize_parameters()\n",
    "\n",
    "        total_iterations += current_batch_size\n",
    "        epoch_iter += current_batch_size\n",
    "\n",
    "        age_mse_loss = torch.sum((age - data['age'].to(device)) ** 2)\n",
    "        gender_mse_loss = torch.sum((gender - data['gender'].to(device)) ** 2)\n",
    "\n",
    "        if total_iterations > (print_freq * n_print):\n",
    "            time_taken = time.time() - train_start_time\n",
    "\n",
    "            print(\"--------------------E%d-----------------------\" % (epoch+1))\n",
    "            print(\"Current Iteration: %05d | Epoch Iteration: %05d\" % (print_freq * n_print, epoch_iter))\n",
    "            print(\"Current Time Taken: %07ds | Current Epoch Running Time: %07ds\" % (time_taken, time.time() - start_time))\n",
    "            print(\"Age CE Loss: %.7f | Gender CE Loss: %.7f\" % (model.age_loss, model.gender_loss))\n",
    "            print(\"Age Accuracy (MSE): %.7f | Gender Accuracy (MSE): %.7f\" % (age_mse_loss, gender_mse_loss))\n",
    "            n_print += 1\n",
    "\n",
    "        if (epoch+1) >= save_freq * n_save:\n",
    "            print(\"Saving models...\")\n",
    "            model.save_model(checkpoint_dir, save_freq * n_save)\n",
    "            n_save += 1\n",
    "            \n",
    "\n",
    "print(f\"Total time taken: {time.time() - train_start_time}\")\n",
    "print(\"Saving trained model ...\")\n",
    "model.save_model(checkpoint_dir, epoch=\"trained\")\n"
   ]
  }
 ],
 "metadata": {
  "interpreter": {
   "hash": "9cf3140a95018356adda0b08a8d866947d94191709b9d93ba5e939514f97a387"
  },
  "kernelspec": {
   "display_name": "Python 3.10.2 ('pytorch_env')",
   "language": "python",
   "name": "python3"
  },
  "language_info": {
   "codemirror_mode": {
    "name": "ipython",
    "version": 3
   },
   "file_extension": ".py",
   "mimetype": "text/x-python",
   "name": "python",
   "nbconvert_exporter": "python",
   "pygments_lexer": "ipython3",
   "version": "3.10.2"
  },
  "orig_nbformat": 4
 },
 "nbformat": 4,
 "nbformat_minor": 2
}
