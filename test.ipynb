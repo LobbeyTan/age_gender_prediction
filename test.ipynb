{
 "cells": [
  {
   "cell_type": "code",
   "execution_count": 1,
   "metadata": {},
   "outputs": [],
   "source": [
    "from torch.utils.data import DataLoader\n",
    "from src.dataset import WikiDataset\n",
    "from src.vgg16 import load_vgg16\n",
    "from src.network import Classifier"
   ]
  },
  {
   "cell_type": "code",
   "execution_count": 2,
   "metadata": {},
   "outputs": [],
   "source": [
    "dataset = WikiDataset(root_dir=\"./wiki\", train=True)\n",
    "\n",
    "batch_size = 3\n",
    "\n",
    "dataloader = DataLoader(dataset, batch_size, shuffle=True)"
   ]
  },
  {
   "cell_type": "code",
   "execution_count": 3,
   "metadata": {},
   "outputs": [],
   "source": [
    "vgg = load_vgg16(\"./src/pretrained/vgg16.weight\")"
   ]
  },
  {
   "cell_type": "code",
   "execution_count": 4,
   "metadata": {},
   "outputs": [],
   "source": [
    "data = next(iter(dataloader))"
   ]
  },
  {
   "cell_type": "code",
   "execution_count": 5,
   "metadata": {},
   "outputs": [],
   "source": [
    "output = vgg(data['img'])"
   ]
  },
  {
   "cell_type": "code",
   "execution_count": 6,
   "metadata": {},
   "outputs": [],
   "source": [
    "classifier = Classifier(2)"
   ]
  },
  {
   "cell_type": "code",
   "execution_count": 7,
   "metadata": {},
   "outputs": [
    {
     "name": "stdout",
     "output_type": "stream",
     "text": [
      "tensor([[0.5029, 0.4971],\n",
      "        [0.4965, 0.5035],\n",
      "        [0.5032, 0.4968]], grad_fn=<SoftmaxBackward0>)\n"
     ]
    }
   ],
   "source": [
    "final_output = classifier(output)\n",
    "\n",
    "print(final_output)"
   ]
  },
  {
   "cell_type": "code",
   "execution_count": 13,
   "metadata": {},
   "outputs": [
    {
     "name": "stdout",
     "output_type": "stream",
     "text": [
      "torch.float32\n",
      "torch.float32\n",
      "tensor(0.6940, grad_fn=<DivBackward1>)\n"
     ]
    }
   ],
   "source": [
    "import torch.nn.functional as F\n",
    "import torch\n",
    "\n",
    "loss = F.cross_entropy\n",
    "\n",
    "target = torch.zeros((3, 2))\n",
    "\n",
    "target[0][1] = 1\n",
    "target[1][1] = 1\n",
    "target[2][1] = 1\n",
    "\n",
    "print(target.dtype)\n",
    "print(final_output.dtype)\n",
    "print(loss(final_output, target))"
   ]
  },
  {
   "cell_type": "code",
   "execution_count": 9,
   "metadata": {},
   "outputs": [
    {
     "data": {
      "text/plain": [
       "tensor([[[1, 3, 3, 1, 2, 2, 0, 0],\n",
       "         [3, 3, 2, 2, 3, 0, 1, 2],\n",
       "         [0, 0, 2, 1, 1, 2, 0, 1],\n",
       "         [2, 3, 2, 1, 1, 0, 2, 3],\n",
       "         [1, 3, 1, 2, 0, 0, 1, 0],\n",
       "         [3, 3, 2, 3, 1, 1, 0, 1],\n",
       "         [3, 1, 1, 2, 2, 2, 1, 0],\n",
       "         [1, 2, 3, 1, 0, 2, 0, 0]],\n",
       "\n",
       "        [[0, 1, 1, 1, 2, 3, 2, 1],\n",
       "         [0, 0, 3, 1, 0, 1, 2, 3],\n",
       "         [2, 3, 2, 0, 2, 0, 0, 2],\n",
       "         [3, 1, 2, 3, 3, 2, 1, 0],\n",
       "         [2, 1, 2, 0, 2, 2, 3, 2],\n",
       "         [3, 0, 3, 1, 1, 0, 2, 1],\n",
       "         [3, 2, 3, 3, 1, 1, 0, 2],\n",
       "         [3, 1, 3, 0, 0, 0, 1, 2]],\n",
       "\n",
       "        [[2, 2, 2, 3, 0, 2, 3, 2],\n",
       "         [2, 0, 0, 3, 3, 0, 3, 3],\n",
       "         [1, 1, 2, 1, 2, 1, 2, 3],\n",
       "         [2, 3, 2, 3, 0, 1, 0, 1],\n",
       "         [0, 0, 2, 0, 0, 0, 1, 0],\n",
       "         [0, 3, 2, 0, 0, 1, 2, 1],\n",
       "         [1, 3, 0, 1, 1, 0, 1, 0],\n",
       "         [0, 3, 3, 2, 0, 2, 1, 3]],\n",
       "\n",
       "        [[2, 2, 1, 0, 0, 1, 3, 3],\n",
       "         [2, 0, 1, 0, 0, 1, 0, 2],\n",
       "         [2, 1, 3, 0, 0, 2, 0, 3],\n",
       "         [1, 1, 2, 3, 1, 0, 0, 0],\n",
       "         [2, 0, 3, 3, 1, 1, 3, 3],\n",
       "         [2, 3, 2, 2, 2, 2, 1, 0],\n",
       "         [1, 1, 3, 3, 1, 3, 0, 1],\n",
       "         [0, 3, 3, 0, 0, 0, 3, 0]],\n",
       "\n",
       "        [[3, 3, 1, 3, 0, 2, 0, 2],\n",
       "         [2, 1, 2, 2, 3, 3, 3, 3],\n",
       "         [1, 2, 3, 3, 3, 0, 1, 0],\n",
       "         [2, 1, 3, 3, 1, 3, 3, 2],\n",
       "         [2, 1, 3, 0, 1, 1, 2, 0],\n",
       "         [3, 3, 1, 1, 1, 3, 0, 1],\n",
       "         [3, 2, 2, 3, 1, 0, 0, 3],\n",
       "         [0, 1, 3, 0, 2, 1, 3, 3]]])"
      ]
     },
     "execution_count": 9,
     "metadata": {},
     "output_type": "execute_result"
    }
   ],
   "source": [
    "torch.empty(5, 8, 8, dtype=torch.long).random_(0, 4)"
   ]
  },
  {
   "cell_type": "code",
   "execution_count": null,
   "metadata": {},
   "outputs": [],
   "source": []
  }
 ],
 "metadata": {
  "interpreter": {
   "hash": "9cf3140a95018356adda0b08a8d866947d94191709b9d93ba5e939514f97a387"
  },
  "kernelspec": {
   "display_name": "Python 3.10.2 ('pytorch_env')",
   "language": "python",
   "name": "python3"
  },
  "language_info": {
   "codemirror_mode": {
    "name": "ipython",
    "version": 3
   },
   "file_extension": ".py",
   "mimetype": "text/x-python",
   "name": "python",
   "nbconvert_exporter": "python",
   "pygments_lexer": "ipython3",
   "version": "3.10.2"
  },
  "orig_nbformat": 4
 },
 "nbformat": 4,
 "nbformat_minor": 2
}
